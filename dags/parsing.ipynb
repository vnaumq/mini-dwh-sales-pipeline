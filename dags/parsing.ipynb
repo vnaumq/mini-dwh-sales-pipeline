{
 "cells": [
  {
   "cell_type": "code",
   "execution_count": 2,
   "id": "54b893e6",
   "metadata": {},
   "outputs": [],
   "source": [
    "import pandas as pd\n",
    "import endpoints\n",
    "from datetime import datetime, timedelta\n",
    "# from config import SITE_EMAIL, SITE_PASSWORD\n",
    "import time\n",
    "import numpy as np"
   ]
  },
  {
   "cell_type": "code",
   "execution_count": 9,
   "id": "0bace976",
   "metadata": {},
   "outputs": [],
   "source": [
    "import json"
   ]
  },
  {
   "cell_type": "code",
   "execution_count": 10,
   "id": "ce88da66",
   "metadata": {},
   "outputs": [],
   "source": [
    "from urllib.parse import quote"
   ]
  },
  {
   "cell_type": "code",
   "execution_count": 3,
   "id": "b0930f28",
   "metadata": {},
   "outputs": [],
   "source": [
    "today = datetime.today()\n",
    "yesterday = today - timedelta(days=1)\n",
    "today_str = today.strftime('%Y-%m-%d')\n",
    "yesterday_str = yesterday.strftime('%Y-%m-%d')"
   ]
  },
  {
   "cell_type": "code",
   "execution_count": 4,
   "id": "2c986355",
   "metadata": {},
   "outputs": [],
   "source": [
    "EMAIL = \"vnaumovich123@gmail.com\"\n",
    "PASSWORD = \"6m78Hbgt\""
   ]
  },
  {
   "cell_type": "code",
   "execution_count": 5,
   "id": "eecf2200",
   "metadata": {},
   "outputs": [],
   "source": [
    "cookies_dict = endpoints.get_cookies_local(EMAIL, PASSWORD)\n",
    "session = endpoints.get_session()"
   ]
  },
  {
   "cell_type": "code",
   "execution_count": null,
   "id": "cf34a8ca",
   "metadata": {},
   "outputs": [],
   "source": [
    "\n",
    "data = endpoints.get_l1_l2(yesterday_str, today_str, session, cookies_dict)\n",
    "\n",
    "df = pd.json_normalize(data['data'])\n",
    "df.rename({'id': 'l1_id', 'value': 'l1_name'}, axis=1, inplace=True)\n",
    "df = df[['l1_id', 'l1_name', 'data']]\\\n",
    "    .explode('data')\\\n",
    "    .reset_index(drop=True)\n",
    "df = df.drop(0)\\\n",
    "    .reset_index(drop=True)\n",
    "df_expanded = pd.json_normalize(df['data'])\n",
    "df = pd.concat([df[['l1_id', 'l1_name']], df_expanded], axis=1)\\\n",
    "    .rename({'id': 'l2_id', 'value': 'l2_name'}, axis=1)\n",
    "df = df[['l1_id', 'l1_name', 'l2_id', 'l2_name']]"
   ]
  },
  {
   "cell_type": "code",
   "execution_count": 7,
   "id": "aebad027",
   "metadata": {},
   "outputs": [],
   "source": [
    "temp_dfs = []\n",
    "for l2_id in df['l2_id']:\n",
    "    data = endpoints.get_l3(yesterday_str, l2_id, today_str, session, cookies_dict)\n",
    "    df_temp = pd.json_normalize(data['data'])\n",
    "    df_temp['l2_id'] = l2_id\n",
    "    temp_dfs.append(df_temp)\n",
    "    time.sleep(1)\n",
    "\n",
    "if temp_dfs:\n",
    "    df_l3 = pd.concat(temp_dfs, ignore_index=True)\n",
    "    df_l3 = df_l3.rename(columns={'id': 'l3_id', 'name': 'l3_name'})\\\n",
    "        .drop(['url', 'path', 'isFavorite'], axis=1)\n",
    "else:\n",
    "    df_l3 = pd.DataFrame()"
   ]
  },
  {
   "cell_type": "code",
   "execution_count": null,
   "id": "4d79c3b1",
   "metadata": {},
   "outputs": [],
   "source": [
    "def get_wb_totals():\n",
    "    # Параметры запроса\n",
    "    category_id = \"12413804913918531246\"\n",
    "    check_date = \"2025-09-10\"\n",
    "    period_days = \"30\"\n",
    "\n",
    "    # Формируем JSON query\n",
    "    query_params = {\n",
    "        \"start\": 0,\n",
    "        \"length\": 0,\n",
    "        \"orderBy\": \"ordersSum\",\n",
    "        \"orderDirection\": \"desc\",\n",
    "        \"checkDate\": check_date,\n",
    "        \"periodDays\": period_days,\n",
    "        \"trendType\": \"day\",\n",
    "        \"filters\": {}\n",
    "    }\n",
    "\n",
    "    # Кодируем JSON для URL\n",
    "    encoded_query = quote(json.dumps(query_params))\n",
    "\n",
    "    # Формируем timestamp\n",
    "    timestamp = datetime.now().strftime(\"%Y-%m-%d_%H-0\")\n",
    "\n",
    "    # Собираем итоговый URL\n",
    "    url = f\"https://eggheads.solutions/analytics/wbCategory/getBrandsList/{category_id}.json?query={encoded_query}&dns-cache={timestamp}\"\n",
    "\n",
    "    return url"
   ]
  },
  {
   "cell_type": "code",
   "execution_count": 6,
   "id": "2db0f6a0",
   "metadata": {},
   "outputs": [],
   "source": [
    "l3_id = '12413804913918531246'"
   ]
  },
  {
   "cell_type": "code",
   "execution_count": 11,
   "id": "dba56ce5",
   "metadata": {},
   "outputs": [],
   "source": [
    "import requests"
   ]
  },
  {
   "cell_type": "code",
   "execution_count": 14,
   "id": "b632eec8",
   "metadata": {},
   "outputs": [],
   "source": [
    "response = requests.get(get_wb_totals(), cookies=cookies_dict)"
   ]
  },
  {
   "cell_type": "code",
   "execution_count": 15,
   "id": "9b4116ba",
   "metadata": {},
   "outputs": [
    {
     "data": {
      "text/plain": [
       "'{\"status\":\"ok\",\"items\":[],\"totals\":{\"brandId\":null,\"lastRemains\":null,\"reviewsCount\":null,\"name\":\"Автотовары > OFFroad > Антипробуксовочное приспособление\",\"isFavorite\":false,\"orders\":755,\"ordersSum\":1523102,\"loosesPercent\":39.77,\"avgSum\":2017,\"loosesSum\":605759,\"trend\":[{\"date\":\"2025-08-12T00:00:00+00:00\",\"ordersSum\":25652,\"orders\":14},{\"date\":\"2025-08-13T00:00:00+00:00\",\"ordersSum\":25678,\"orders\":17},{\"date\":\"2025-08-14T00:00:00+00:00\",\"ordersSum\":39771,\"orders\":22},{\"date\":\"2025-08-15T00:00:00+00:00\",\"ordersSum\":19624,\"orders\":13},{\"date\":\"2025-08-16T00:00:00+00:00\",\"ordersSum\":43742,\"orders\":27},{\"date\":\"2025-08-17T00:00:00+00:00\",\"ordersSum\":28443,\"orders\":14},{\"date\":\"2025-08-18T00:00:00+00:00\",\"ordersSum\":31479,\"orders\":17},{\"date\":\"2025-08-19T00:00:00+00:00\",\"ordersSum\":32790,\"orders\":15},{\"date\":\"2025-08-20T00:00:00+00:00\",\"ordersSum\":21538,\"orders\":13},{\"date\":\"2025-08-21T00:00:00+00:00\",\"ordersSum\":27910,\"orders\":12},{\"date\":\"2025-08-22T00:00:00+00:00\",\"ordersSum\":16288,\"orders\":8},{\"date\":\"2025-08-23T00:00:00+00:00\",\"ordersSum\":34898,\"orders\":15},{\"date\":\"2025-08-24T00:00:00+00:00\",\"ordersSum\":49629,\"orders\":14},{\"date\":\"2025-08-25T00:00:00+00:00\",\"ordersSum\":36870,\"orders\":25},{\"date\":\"2025-08-26T00:00:00+00:00\",\"ordersSum\":53605,\"orders\":25},{\"date\":\"2025-08-27T00:00:00+00:00\",\"ordersSum\":63918,\"orders\":28},{\"date\":\"2025-08-28T00:00:00+00:00\",\"ordersSum\":51036,\"orders\":22},{\"date\":\"2025-08-29T00:00:00+00:00\",\"ordersSum\":32081,\"orders\":14},{\"date\":\"2025-08-30T00:00:00+00:00\",\"ordersSum\":37458,\"orders\":30},{\"date\":\"2025-08-31T00:00:00+00:00\",\"ordersSum\":36263,\"orders\":19},{\"date\":\"2025-09-01T00:00:00+00:00\",\"ordersSum\":35496,\"orders\":21},{\"date\":\"2025-09-02T00:00:00+00:00\",\"ordersSum\":19271,\"orders\":15},{\"date\":\"2025-09-03T00:00:00+00:00\",\"ordersSum\":43203,\"orders\":26},{\"date\":\"2025-09-04T00:00:00+00:00\",\"ordersSum\":23739,\"orders\":20},{\"date\":\"2025-09-05T00:00:00+00:00\",\"ordersSum\":29609,\"orders\":17},{\"date\":\"2025-09-06T00:00:00+00:00\",\"ordersSum\":52709,\"orders\":19},{\"date\":\"2025-09-07T00:00:00+00:00\",\"ordersSum\":32359,\"orders\":29},{\"date\":\"2025-09-08T00:00:00+00:00\",\"ordersSum\":130035,\"orders\":95},{\"date\":\"2025-09-09T00:00:00+00:00\",\"ordersSum\":416604,\"orders\":137},{\"date\":\"2025-09-10T00:00:00+00:00\",\"ordersSum\":31404,\"orders\":12}],\"productsCount\":null,\"newProductsCount\":null,\"orderedCardsSum\":0,\"sharePercent\":0},\"userBrands\":[],\"filters\":{\"orders\":{\"type\":\"range\",\"min\":null,\"max\":null},\"ordersSum\":{\"type\":\"range\",\"min\":null,\"max\":null},\"loosesPercent\":{\"type\":\"range\",\"min\":null,\"max\":null},\"avgSum\":{\"type\":\"range\",\"min\":null,\"max\":null},\"loosesSum\":{\"type\":\"range\",\"min\":null,\"max\":null},\"name\":{\"type\":\"text\",\"value\":null},\"orderedCardsSum\":{\"type\":\"range\",\"min\":null,\"max\":null},\"productsCount\":{\"type\":\"range\",\"min\":null,\"max\":null},\"newProductsCount\":{\"type\":\"range\",\"min\":null,\"max\":null},\"sharePercent\":{\"type\":\"range\",\"min\":null,\"max\":null},\"lastRemains\":{\"type\":\"range\",\"min\":null,\"max\":null}},\"request\":{\"filters\":{},\"checkDate\":\"2025-09-10T00:00:00+00:00\",\"periodDays\":30,\"trendType\":\"day\",\"draw\":0,\"start\":0,\"length\":0,\"orderBy\":\"ordersSum\",\"orderDirection\":\"desc\"},\"recordsTotal\":196,\"recordsFiltered\":196,\"draw\":0,\"message\":null}'"
      ]
     },
     "execution_count": 15,
     "metadata": {},
     "output_type": "execute_result"
    }
   ],
   "source": [
    "response.text"
   ]
  },
  {
   "cell_type": "code",
   "execution_count": 3,
   "id": "6fcf681b",
   "metadata": {},
   "outputs": [],
   "source": [
    "pd.set_option('display.max_rows', None)"
   ]
  },
  {
   "cell_type": "code",
   "execution_count": 4,
   "id": "9efbcacc",
   "metadata": {},
   "outputs": [],
   "source": [
    "df = pd.read_csv('l1_l2_data.csv')"
   ]
  },
  {
   "cell_type": "code",
   "execution_count": 31,
   "id": "6b70cc18",
   "metadata": {},
   "outputs": [],
   "source": [
    "# Заменяем строки с кавычками на NaN\n",
    "df['l2_id'] = df['l2_id'].replace('', pd.NA, regex=False)\n",
    "\n",
    "# Заполняем NaN значениями из l1_id\n",
    "df['l2_id'] = df['l2_id'].fillna(df['l1_id'])"
   ]
  }
 ],
 "metadata": {
  "kernelspec": {
   "display_name": "venv",
   "language": "python",
   "name": "python3"
  },
  "language_info": {
   "codemirror_mode": {
    "name": "ipython",
    "version": 3
   },
   "file_extension": ".py",
   "mimetype": "text/x-python",
   "name": "python",
   "nbconvert_exporter": "python",
   "pygments_lexer": "ipython3",
   "version": "3.12.9"
  }
 },
 "nbformat": 4,
 "nbformat_minor": 5
}
