{
 "cells": [
  {
   "cell_type": "code",
   "execution_count": 14,
   "id": "54b893e6",
   "metadata": {},
   "outputs": [],
   "source": [
    "import pandas as pd\n",
    "import endpoints\n",
    "from datetime import datetime, timedelta\n",
    "# from config import SITE_EMAIL, SITE_PASSWORD\n",
    "import time\n",
    "import numpy as np"
   ]
  },
  {
   "cell_type": "code",
   "execution_count": 3,
   "id": "b0930f28",
   "metadata": {},
   "outputs": [],
   "source": [
    "today = datetime.today()\n",
    "yesterday = today - timedelta(days=1)\n",
    "today_str = today.strftime('%Y-%m-%d')\n",
    "yesterday_str = yesterday.strftime('%Y-%m-%d')"
   ]
  },
  {
   "cell_type": "code",
   "execution_count": null,
   "id": "cf34a8ca",
   "metadata": {},
   "outputs": [],
   "source": [
    "cookies_dict = endpoints.get_cookies(EMAIL, PASSWORD)\n",
    "session = endpoints.get_session()\n",
    "data = endpoints.get_l1_l2(yesterday_str, today_str, session, cookies_dict)\n",
    "\n",
    "df = pd.json_normalize(data['data'])\n",
    "df.rename({'id': 'l1_id', 'value': 'l1_name'}, axis=1, inplace=True)\n",
    "df = df[['l1_id', 'l1_name', 'data']]\\\n",
    "    .explode('data')\\\n",
    "    .reset_index(drop=True)\n",
    "df = df.drop(0)\\\n",
    "    .reset_index(drop=True)\n",
    "df_expanded = pd.json_normalize(df['data'])\n",
    "df = pd.concat([df[['l1_id', 'l1_name']], df_expanded], axis=1)\\\n",
    "    .rename({'id': 'l2_id', 'value': 'l2_name'}, axis=1)\n",
    "df = df[['l1_id', 'l1_name', 'l2_id', 'l2_name']]"
   ]
  },
  {
   "cell_type": "code",
   "execution_count": 7,
   "id": "aebad027",
   "metadata": {},
   "outputs": [],
   "source": [
    "temp_dfs = []\n",
    "for l2_id in df['l2_id']:\n",
    "    data = endpoints.get_l3(yesterday_str, l2_id, today_str, session, cookies_dict)\n",
    "    df_temp = pd.json_normalize(data['data'])\n",
    "    df_temp['l2_id'] = l2_id\n",
    "    temp_dfs.append(df_temp)\n",
    "    time.sleep(1)\n",
    "\n",
    "if temp_dfs:\n",
    "    df_l3 = pd.concat(temp_dfs, ignore_index=True)\n",
    "    df_l3 = df_l3.rename(columns={'id': 'l3_id', 'name': 'l3_name'})\\\n",
    "        .drop(['url', 'path', 'isFavorite'], axis=1)\n",
    "else:\n",
    "    df_l3 = pd.DataFrame()"
   ]
  },
  {
   "cell_type": "code",
   "execution_count": 3,
   "id": "6fcf681b",
   "metadata": {},
   "outputs": [],
   "source": [
    "pd.set_option('display.max_rows', None)"
   ]
  },
  {
   "cell_type": "code",
   "execution_count": 4,
   "id": "9efbcacc",
   "metadata": {},
   "outputs": [],
   "source": [
    "df = pd.read_csv('l1_l2_data.csv')"
   ]
  },
  {
   "cell_type": "code",
   "execution_count": 31,
   "id": "6b70cc18",
   "metadata": {},
   "outputs": [],
   "source": [
    "# Заменяем строки с кавычками на NaN\n",
    "df['l2_id'] = df['l2_id'].replace('', pd.NA, regex=False)\n",
    "\n",
    "# Заполняем NaN значениями из l1_id\n",
    "df['l2_id'] = df['l2_id'].fillna(df['l1_id'])"
   ]
  }
 ],
 "metadata": {
  "kernelspec": {
   "display_name": "Python 3",
   "language": "python",
   "name": "python3"
  },
  "language_info": {
   "codemirror_mode": {
    "name": "ipython",
    "version": 3
   },
   "file_extension": ".py",
   "mimetype": "text/x-python",
   "name": "python",
   "nbconvert_exporter": "python",
   "pygments_lexer": "ipython3",
   "version": "3.12.2"
  }
 },
 "nbformat": 4,
 "nbformat_minor": 5
}
